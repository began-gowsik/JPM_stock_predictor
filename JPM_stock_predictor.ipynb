{
  "cells": [
    {
      "cell_type": "code",
      "execution_count": null,
      "metadata": {
        "id": "QQcldf8U9BPJ"
      },
      "outputs": [],
      "source": [
        "import numpy as np\n",
        "import pandas as pd\n",
        "from matplotlib import pyplot as plt\n",
        "import keras\n",
        "import tensorflow as tf"
      ]
    },
    {
      "cell_type": "code",
      "execution_count": null,
      "metadata": {
        "id": "zdQnVSoa9BPK"
      },
      "outputs": [],
      "source": [
        "train_dataset=pd.read_csv(\"JPM.csv\")\n",
        "train=train_dataset.iloc[:,1:2].values"
      ]
    },
    {
      "cell_type": "code",
      "execution_count": null,
      "metadata": {
        "id": "ZMh0WVZd9BPL"
      },
      "outputs": [],
      "source": [
        "from sklearn.preprocessing import MinMaxScaler\n",
        "sc=MinMaxScaler(feature_range=(0,1))\n",
        "train_scaled=sc.fit_transform(train)"
      ]
    },
    {
      "cell_type": "code",
      "execution_count": null,
      "metadata": {
        "id": "F4w8mSQw9BPL"
      },
      "outputs": [],
      "source": [
        "x_train=[]\n",
        "y_train=[]\n",
        "for i in range(60,5535):\n",
        "    x_train.append(train_scaled[i-60:i,0])\n",
        "    y_train.append(train_scaled[i])"
      ]
    },
    {
      "cell_type": "code",
      "execution_count": null,
      "metadata": {
        "id": "-ld7dJJS9BPM"
      },
      "outputs": [],
      "source": [
        "x_train,y_train=np.array(x_train),np.array(y_train)"
      ]
    },
    {
      "cell_type": "code",
      "execution_count": null,
      "metadata": {
        "id": "hRzEr9mL9BPM"
      },
      "outputs": [],
      "source": [
        "x_train=np.reshape(x_train,(x_train.shape[0],x_train.shape[1],1))"
      ]
    },
    {
      "cell_type": "code",
      "execution_count": null,
      "metadata": {
        "id": "VaF0pO0W9BPN",
        "outputId": "1290e16e-9bdd-4b9f-ef68-833c94af74e5"
      },
      "outputs": [
        {
          "data": {
            "text/plain": [
              "(5475, 60, 1)"
            ]
          },
          "execution_count": 329,
          "metadata": {},
          "output_type": "execute_result"
        }
      ],
      "source": [
        "x_train.shape"
      ]
    },
    {
      "cell_type": "code",
      "execution_count": null,
      "metadata": {
        "id": "1mvPUhwO9BPO"
      },
      "outputs": [],
      "source": [
        "from keras.models import Sequential\n",
        "from keras.layers import Dense\n",
        "from keras.layers import LSTM\n",
        "from keras.layers import Dropout"
      ]
    },
    {
      "cell_type": "code",
      "execution_count": null,
      "metadata": {
        "id": "mEB3Lund9BPO"
      },
      "outputs": [],
      "source": [
        "\n",
        "rnn_model1=Sequential()"
      ]
    },
    {
      "cell_type": "code",
      "execution_count": null,
      "metadata": {
        "id": "94_xLbkZ9BPP"
      },
      "outputs": [],
      "source": [
        "rnn_model1.add(LSTM(units=50,return_sequences=True,input_shape=(x_train.shape[1],1)))\n",
        "rnn_model1.add(Dropout(0.2))"
      ]
    },
    {
      "cell_type": "code",
      "execution_count": null,
      "metadata": {
        "id": "-Qrxn-eF9BPQ"
      },
      "outputs": [],
      "source": [
        "rnn_model1.add(LSTM(units=50,return_sequences=True))\n",
        "rnn_model1.add(Dropout(0.2))\n",
        "\n",
        "rnn_model1.add(LSTM(units=50,return_sequences=True))\n",
        "rnn_model1.add(Dropout(0.2))\n",
        "\n",
        "rnn_model1.add(LSTM(units=50))\n",
        "rnn_model1.add(Dropout(0.2))"
      ]
    },
    {
      "cell_type": "code",
      "execution_count": null,
      "metadata": {
        "id": "zd5BMKJU9BPQ"
      },
      "outputs": [],
      "source": [
        "\n",
        "rnn_model1.add(Dense(units=1))"
      ]
    },
    {
      "cell_type": "code",
      "execution_count": null,
      "metadata": {
        "id": "vlrtE33e9BPQ"
      },
      "outputs": [],
      "source": [
        "\n",
        "rnn_model1.compile(optimizer=\"adam\",loss=\"mean_squared_error\")"
      ]
    },
    {
      "cell_type": "code",
      "execution_count": null,
      "metadata": {
        "id": "-s5KVA5e9BPQ",
        "outputId": "0353079f-55d6-4d48-dc6b-225ab6630a02"
      },
      "outputs": [
        {
          "name": "stdout",
          "output_type": "stream",
          "text": [
            "Epoch 1/100\n",
            "28/28 [==============================] - 11s 163ms/step - loss: 0.0229\n",
            "Epoch 2/100\n",
            "28/28 [==============================] - 5s 164ms/step - loss: 0.0026\n",
            "Epoch 3/100\n",
            "28/28 [==============================] - 5s 168ms/step - loss: 0.0019\n",
            "Epoch 4/100\n",
            "28/28 [==============================] - 5s 170ms/step - loss: 0.0018\n",
            "Epoch 5/100\n",
            "28/28 [==============================] - 5s 172ms/step - loss: 0.0018\n",
            "Epoch 6/100\n",
            "28/28 [==============================] - 5s 170ms/step - loss: 0.0018\n",
            "Epoch 7/100\n",
            "28/28 [==============================] - 5s 170ms/step - loss: 0.0019\n",
            "Epoch 8/100\n",
            "28/28 [==============================] - 5s 170ms/step - loss: 0.0017\n",
            "Epoch 9/100\n",
            "28/28 [==============================] - 5s 173ms/step - loss: 0.0016\n",
            "Epoch 10/100\n",
            "28/28 [==============================] - 5s 172ms/step - loss: 0.0015\n",
            "Epoch 11/100\n",
            "28/28 [==============================] - 5s 173ms/step - loss: 0.0015\n",
            "Epoch 12/100\n",
            "28/28 [==============================] - 5s 173ms/step - loss: 0.0015\n",
            "Epoch 13/100\n",
            "28/28 [==============================] - 5s 185ms/step - loss: 0.0014\n",
            "Epoch 14/100\n",
            "28/28 [==============================] - 5s 183ms/step - loss: 0.0014\n",
            "Epoch 15/100\n",
            "28/28 [==============================] - 5s 179ms/step - loss: 0.0014\n",
            "Epoch 16/100\n",
            "28/28 [==============================] - 5s 179ms/step - loss: 0.0015\n",
            "Epoch 17/100\n",
            "28/28 [==============================] - 5s 188ms/step - loss: 0.0013\n",
            "Epoch 18/100\n",
            "28/28 [==============================] - 5s 192ms/step - loss: 0.0013\n",
            "Epoch 19/100\n",
            "28/28 [==============================] - 5s 189ms/step - loss: 0.0013\n",
            "Epoch 20/100\n",
            "28/28 [==============================] - 5s 195ms/step - loss: 0.0014\n",
            "Epoch 21/100\n",
            "28/28 [==============================] - 5s 190ms/step - loss: 0.0013\n",
            "Epoch 22/100\n",
            "28/28 [==============================] - 5s 194ms/step - loss: 0.0012\n",
            "Epoch 23/100\n",
            "28/28 [==============================] - 5s 168ms/step - loss: 0.0013\n",
            "Epoch 24/100\n",
            "28/28 [==============================] - 5s 169ms/step - loss: 0.0012\n",
            "Epoch 25/100\n",
            "28/28 [==============================] - 5s 161ms/step - loss: 0.0012\n",
            "Epoch 26/100\n",
            "28/28 [==============================] - 5s 163ms/step - loss: 0.0012\n",
            "Epoch 27/100\n",
            "28/28 [==============================] - 5s 167ms/step - loss: 0.0011\n",
            "Epoch 28/100\n",
            "28/28 [==============================] - 4s 155ms/step - loss: 0.0011\n",
            "Epoch 29/100\n",
            "28/28 [==============================] - 4s 154ms/step - loss: 0.0011\n",
            "Epoch 30/100\n",
            "28/28 [==============================] - 4s 153ms/step - loss: 0.0011\n",
            "Epoch 31/100\n",
            "28/28 [==============================] - 4s 152ms/step - loss: 0.0010\n",
            "Epoch 32/100\n",
            "28/28 [==============================] - 4s 153ms/step - loss: 0.0011\n",
            "Epoch 33/100\n",
            "28/28 [==============================] - 4s 156ms/step - loss: 0.0010\n",
            "Epoch 34/100\n",
            "28/28 [==============================] - 4s 153ms/step - loss: 0.0010\n",
            "Epoch 35/100\n",
            "28/28 [==============================] - 4s 155ms/step - loss: 0.0010\n",
            "Epoch 36/100\n",
            "28/28 [==============================] - 4s 153ms/step - loss: 0.0010\n",
            "Epoch 37/100\n",
            "28/28 [==============================] - 4s 153ms/step - loss: 0.0010\n",
            "Epoch 38/100\n",
            "28/28 [==============================] - 4s 157ms/step - loss: 9.7492e-04\n",
            "Epoch 39/100\n",
            "28/28 [==============================] - 4s 155ms/step - loss: 9.6412e-04\n",
            "Epoch 40/100\n",
            "28/28 [==============================] - 5s 189ms/step - loss: 9.8418e-04\n",
            "Epoch 41/100\n",
            "28/28 [==============================] - 6s 202ms/step - loss: 9.5504e-04\n",
            "Epoch 42/100\n",
            "28/28 [==============================] - 5s 190ms/step - loss: 0.0010\n",
            "Epoch 43/100\n",
            "28/28 [==============================] - 5s 183ms/step - loss: 9.3048e-04\n",
            "Epoch 44/100\n",
            "28/28 [==============================] - 5s 182ms/step - loss: 9.5484e-04\n",
            "Epoch 45/100\n",
            "28/28 [==============================] - 5s 182ms/step - loss: 9.7045e-04\n",
            "Epoch 46/100\n",
            "28/28 [==============================] - 5s 180ms/step - loss: 9.8408e-04\n",
            "Epoch 47/100\n",
            "28/28 [==============================] - 5s 179ms/step - loss: 9.1020e-04\n",
            "Epoch 48/100\n",
            "28/28 [==============================] - 5s 184ms/step - loss: 8.6457e-04\n",
            "Epoch 49/100\n",
            "28/28 [==============================] - 5s 183ms/step - loss: 9.0483e-04\n",
            "Epoch 50/100\n",
            "28/28 [==============================] - 5s 188ms/step - loss: 8.5605e-04\n",
            "Epoch 51/100\n",
            "28/28 [==============================] - 5s 180ms/step - loss: 8.4614e-04\n",
            "Epoch 52/100\n",
            "28/28 [==============================] - 5s 177ms/step - loss: 9.2445e-04\n",
            "Epoch 53/100\n",
            "28/28 [==============================] - 4s 153ms/step - loss: 8.4557e-04\n",
            "Epoch 54/100\n",
            "28/28 [==============================] - 4s 153ms/step - loss: 8.7276e-04\n",
            "Epoch 55/100\n",
            "28/28 [==============================] - 4s 153ms/step - loss: 8.2417e-04\n",
            "Epoch 56/100\n",
            "28/28 [==============================] - 4s 154ms/step - loss: 7.9142e-04\n",
            "Epoch 57/100\n",
            "28/28 [==============================] - 4s 154ms/step - loss: 8.4724e-04\n",
            "Epoch 58/100\n",
            "28/28 [==============================] - 4s 154ms/step - loss: 7.5549e-04\n",
            "Epoch 59/100\n",
            "28/28 [==============================] - 4s 154ms/step - loss: 8.4377e-04\n",
            "Epoch 60/100\n",
            "28/28 [==============================] - 4s 154ms/step - loss: 8.3098e-04\n",
            "Epoch 61/100\n",
            "28/28 [==============================] - 4s 155ms/step - loss: 8.3882e-04\n",
            "Epoch 62/100\n",
            "28/28 [==============================] - 4s 154ms/step - loss: 8.0518e-04\n",
            "Epoch 63/100\n",
            "28/28 [==============================] - 4s 153ms/step - loss: 7.7920e-04\n",
            "Epoch 64/100\n",
            "28/28 [==============================] - 4s 153ms/step - loss: 7.2670e-04\n",
            "Epoch 65/100\n",
            "28/28 [==============================] - 4s 154ms/step - loss: 7.5915e-04\n",
            "Epoch 66/100\n",
            "28/28 [==============================] - 4s 153ms/step - loss: 7.6276e-04\n",
            "Epoch 67/100\n",
            "28/28 [==============================] - 4s 157ms/step - loss: 7.2644e-04\n",
            "Epoch 68/100\n",
            "28/28 [==============================] - 4s 154ms/step - loss: 7.4311e-04\n",
            "Epoch 69/100\n",
            "28/28 [==============================] - 4s 153ms/step - loss: 7.3822e-04\n",
            "Epoch 70/100\n",
            "28/28 [==============================] - 4s 154ms/step - loss: 6.9517e-04\n",
            "Epoch 71/100\n",
            "28/28 [==============================] - 4s 154ms/step - loss: 6.9532e-04\n",
            "Epoch 72/100\n",
            "28/28 [==============================] - 4s 152ms/step - loss: 6.5518e-04\n",
            "Epoch 73/100\n",
            "28/28 [==============================] - 4s 154ms/step - loss: 6.8497e-04\n",
            "Epoch 74/100\n",
            "28/28 [==============================] - 4s 154ms/step - loss: 6.8194e-04\n",
            "Epoch 75/100\n",
            "28/28 [==============================] - 4s 152ms/step - loss: 6.6231e-04\n",
            "Epoch 76/100\n",
            "28/28 [==============================] - 4s 153ms/step - loss: 6.3682e-04\n",
            "Epoch 77/100\n",
            "28/28 [==============================] - 4s 153ms/step - loss: 7.6091e-04\n",
            "Epoch 78/100\n",
            "28/28 [==============================] - 4s 154ms/step - loss: 7.0570e-04\n",
            "Epoch 79/100\n",
            "28/28 [==============================] - 4s 152ms/step - loss: 7.0226e-04\n",
            "Epoch 80/100\n",
            "28/28 [==============================] - 4s 153ms/step - loss: 6.9651e-04\n",
            "Epoch 81/100\n",
            "28/28 [==============================] - 4s 153ms/step - loss: 6.4496e-04\n",
            "Epoch 82/100\n",
            "28/28 [==============================] - 4s 153ms/step - loss: 6.0722e-04\n",
            "Epoch 83/100\n",
            "28/28 [==============================] - 4s 153ms/step - loss: 6.4701e-04\n",
            "Epoch 84/100\n",
            "28/28 [==============================] - 4s 153ms/step - loss: 6.0509e-04\n",
            "Epoch 85/100\n",
            "28/28 [==============================] - 4s 152ms/step - loss: 6.7268e-04\n",
            "Epoch 86/100\n",
            "28/28 [==============================] - 4s 153ms/step - loss: 6.5327e-04\n",
            "Epoch 87/100\n",
            "28/28 [==============================] - 4s 154ms/step - loss: 6.5089e-04\n",
            "Epoch 88/100\n",
            "28/28 [==============================] - 4s 151ms/step - loss: 5.9517e-04\n",
            "Epoch 89/100\n",
            "28/28 [==============================] - 4s 153ms/step - loss: 5.9555e-04\n",
            "Epoch 90/100\n",
            "28/28 [==============================] - 4s 154ms/step - loss: 6.2384e-04\n",
            "Epoch 91/100\n",
            "28/28 [==============================] - 4s 153ms/step - loss: 6.2921e-04\n",
            "Epoch 92/100\n",
            "28/28 [==============================] - 4s 153ms/step - loss: 5.9567e-04\n",
            "Epoch 93/100\n",
            "28/28 [==============================] - 4s 152ms/step - loss: 5.8946e-04\n",
            "Epoch 94/100\n",
            "28/28 [==============================] - 4s 153ms/step - loss: 6.3924e-04\n",
            "Epoch 95/100\n",
            "28/28 [==============================] - 4s 153ms/step - loss: 5.5891e-04\n",
            "Epoch 96/100\n",
            "28/28 [==============================] - 4s 153ms/step - loss: 5.8687e-04\n",
            "Epoch 97/100\n",
            "28/28 [==============================] - 4s 153ms/step - loss: 5.5589e-04\n",
            "Epoch 98/100\n",
            "28/28 [==============================] - 4s 152ms/step - loss: 6.4129e-04\n",
            "Epoch 99/100\n",
            "28/28 [==============================] - 4s 152ms/step - loss: 5.8191e-04\n",
            "Epoch 100/100\n",
            "28/28 [==============================] - 4s 153ms/step - loss: 5.7395e-04\n"
          ]
        },
        {
          "data": {
            "text/plain": [
              "<keras.callbacks.History at 0x2bcc61aee00>"
            ]
          },
          "execution_count": 336,
          "metadata": {},
          "output_type": "execute_result"
        }
      ],
      "source": [
        "rnn_model1.fit(x=x_train,y=y_train,epochs=100,batch_size=200)"
      ]
    },
    {
      "cell_type": "code",
      "execution_count": null,
      "metadata": {
        "id": "z6vOwsKl9BPR"
      },
      "outputs": [],
      "source": [
        "test_dataset=pd.read_csv(\"JPM_test.csv\")\n",
        "test=test_dataset.iloc[:,1:2].values"
      ]
    },
    {
      "cell_type": "code",
      "execution_count": null,
      "metadata": {
        "id": "QR6vkdSy9BPR"
      },
      "outputs": [],
      "source": [
        "total_data=pd.concat((train_dataset[\"Open\"],test_dataset[\"Open\"]),axis=0)"
      ]
    },
    {
      "cell_type": "code",
      "execution_count": null,
      "metadata": {
        "id": "NecqjkFm9BPR"
      },
      "outputs": [],
      "source": [
        "inputs=total_data[len(total_data)-len(test)-60:].values\n",
        "inputs=inputs.reshape(-1,1)\n",
        "inputs=sc.fit_transform(inputs)"
      ]
    },
    {
      "cell_type": "code",
      "execution_count": null,
      "metadata": {
        "id": "3psacrHl9BPR",
        "outputId": "4aec9e3a-3366-40ed-a4cd-8c45ce8ee983"
      },
      "outputs": [
        {
          "name": "stdout",
          "output_type": "stream",
          "text": [
            "8/8 [==============================] - 1s 15ms/step\n"
          ]
        }
      ],
      "source": [
        "x_test=[]\n",
        "for i in range(60,311):\n",
        "    x_test.append(inputs[i-60:i,0])\n",
        "x_test=np.array(x_test)\n",
        "x_test=np.reshape(x_test,(x_test.shape[0],x_test.shape[1],1))\n",
        "predicted_stock=rnn_model1.predict(x_test)\n",
        "predicted_stock_price=sc.inverse_transform(predicted_stock)"
      ]
    },
    {
      "cell_type": "code",
      "execution_count": null,
      "metadata": {
        "id": "54z5rBgm9BPR",
        "outputId": "a1753573-7b3a-4a16-bdc6-1eb954e3fe5d"
      },
      "outputs": [
        {
          "data": {
            "image/png": "[encoded data removed]",
            "text/plain": [
              "<Figure size 640x480 with 1 Axes>"
            ]
          },
          "metadata": {},
          "output_type": "display_data"
        }
      ],
      "source": [
        "plt.plot(predicted_stock_price,color=\"red\",label=\"predited_stock_price\")\n",
        "plt.plot(test,color=\"blue\",label=\"real_stock_price\")\n",
        "plt.xticks(np.arange(0,251,50))\n",
        "plt.title(\"JPM stock prices\")\n",
        "plt.xlabel(\"time points\")\n",
        "plt.ylabel(\"stock prices\")\n",
        "plt.legend()\n",
        "plt.show()"
      ]
    },
    {
      "cell_type": "code",
      "execution_count": null,
      "metadata": {
        "id": "RCTI2sdl9BPS",
        "outputId": "4257de52-5772-4245-c16c-65e267aa260a"
      },
      "outputs": [
        {
          "name": "stdout",
          "output_type": "stream",
          "text": [
            "0.07030841481672917\n"
          ]
        }
      ],
      "source": [
        "error = np.sum(np.abs(test-predicted_stock_price))/250\n",
        "y_ = np.max(test-predicted_stock_price) - np.min(test-predicted_stock_price)\n",
        "print((error**0.5)/y_)"
      ]
    }
  ],
  "metadata": {
    "kernelspec": {
      "display_name": "Python 3",
      "language": "python",
      "name": "python3"
    },
    "language_info": {
      "codemirror_mode": {
        "name": "ipython",
        "version": 3
      },
      "file_extension": ".py",
      "mimetype": "text/x-python",
      "name": "python",
      "nbconvert_exporter": "python",
      "pygments_lexer": "ipython3",
      "version": "3.10.1"
    },
    "orig_nbformat": 4,
    "colab": {
      "provenance": []
    }
  },
  "nbformat": 4,
  "nbformat_minor": 0
}